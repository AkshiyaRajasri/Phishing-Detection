{
 "cells": [
  {
   "cell_type": "code",
   "execution_count": 7,
   "id": "0ec77ecc",
   "metadata": {},
   "outputs": [
    {
     "name": "stderr",
     "output_type": "stream",
     "text": [
      "C:\\Users\\AKSHIYARAJASRI\\anaconda3\\lib\\site-packages\\sklearn\\feature_extraction\\text.py:528: UserWarning: The parameter 'token_pattern' will not be used since 'tokenizer' is not None'\n",
      "  warnings.warn(\n"
     ]
    },
    {
     "name": "stdout",
     "output_type": "stream",
     "text": [
      "              precision    recall  f1-score   support\n",
      "\n",
      "         bad       0.95      0.96      0.95       994\n",
      "        good       0.96      0.95      0.95      1006\n",
      "\n",
      "    accuracy                           0.95      2000\n",
      "   macro avg       0.95      0.95      0.95      2000\n",
      "weighted avg       0.95      0.95      0.95      2000\n",
      "\n"
     ]
    }
   ],
   "source": [
    "import pandas as pd\n",
    "import numpy as np\n",
    "import random\n",
    "from sklearn.model_selection import train_test_split\n",
    "from sklearn.feature_extraction.text import TfidfVectorizer\n",
    "from sklearn.tree import DecisionTreeClassifier\n",
    "from sklearn.metrics import classification_report\n",
    "\n",
    "def customtkns(t):\n",
    "    tkns_byslash = str(t.encode(\"utf-8\")).split(\"/\")\n",
    "    total_tokens = []\n",
    "    for i in tkns_byslash:\n",
    "        tokens = str(i).split(\"-\")\n",
    "        tkns_bydot = []\n",
    "        for j in range(0,len(tokens)):\n",
    "            temp_tkns = str(tokens[j]).split(\".\")\n",
    "            tkns_bydot = tkns_bydot + temp_tkns\n",
    "        total_tokens = total_tokens + tokens + tkns_bydot\n",
    "    total_tokens = list(set(total_tokens))\n",
    "    if \"com\" in total_tokens:\n",
    "        total_tokens.remove(\"com\")\n",
    "    elif \"http:\" in total_tokens:\n",
    "        total_tokens.remove(\"http:\")\n",
    "    return total_tokens\n",
    "df = pd.read_csv(\"C:/Users/AKSHIYARAJASRI/Desktop/New folder (2)/urls.csv\")\n",
    "\n",
    "\n",
    "df[df[\"label\"] == \"good\"] = df[df[\"label\"] == \"good\"].sample(n=5000, random_state=33)\n",
    "df[df[\"label\"] == \"bad\"] = df[df[\"label\"] == \"bad\"].sample(n=5000, random_state=33)\n",
    "df.dropna(inplace=True)\n",
    "df.reset_index(drop=True, inplace=True)\n",
    "\n",
    "# Shuffling the dataset\n",
    "df = df.sample(frac=1).reset_index(drop=True)\n",
    "\n",
    "# Shuffling\n",
    "df = np.array(df)\n",
    "random.shuffle(df)\n",
    "\n",
    "# Getting urls and labels\n",
    "x = [d[0] for d in df]\n",
    "y = [d[1] for d in df]\n",
    "\n",
    "# Setting Customtokens\n",
    "vectorizer = TfidfVectorizer(tokenizer=customtkns)\n",
    "\n",
    "# Vectorizing the column\n",
    "X = vectorizer.fit_transform(x)\n",
    "\n",
    "# Train Test Split\n",
    "xtrain, xtest, ytrain, ytest = train_test_split(X, y, test_size=0.2, random_state=0)\n",
    "# Train Model\n",
    "dt = DecisionTreeClassifier()\n",
    "dt.fit(xtrain, ytrain)\n",
    "y_pred = dt.predict(xtest)\n",
    "print(classification_report(ytest, y_pred))"
   ]
  },
  {
   "cell_type": "code",
   "execution_count": null,
   "id": "1e1c94b5",
   "metadata": {},
   "outputs": [],
   "source": []
  }
 ],
 "metadata": {
  "kernelspec": {
   "display_name": "Python 3 (ipykernel)",
   "language": "python",
   "name": "python3"
  },
  "language_info": {
   "codemirror_mode": {
    "name": "ipython",
    "version": 3
   },
   "file_extension": ".py",
   "mimetype": "text/x-python",
   "name": "python",
   "nbconvert_exporter": "python",
   "pygments_lexer": "ipython3",
   "version": "3.10.9"
  }
 },
 "nbformat": 4,
 "nbformat_minor": 5
}
